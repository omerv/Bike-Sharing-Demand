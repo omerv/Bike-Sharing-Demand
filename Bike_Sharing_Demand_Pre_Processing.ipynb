{
 "cells": [
  {
   "cell_type": "markdown",
   "metadata": {},
   "source": [
    "# <span style=\"color: green\">Part II – Pre-Processing"
   ]
  },
  {
   "cell_type": "code",
   "execution_count": 1,
   "metadata": {
    "collapsed": true
   },
   "outputs": [],
   "source": [
    "import pandas as pd\n",
    "from pandas.plotting import scatter_matrix\n",
    "from sklearn.preprocessing import StandardScaler, FunctionTransformer\n",
    "from sklearn.pipeline import Pipeline\n",
    "from sklearn.base import BaseEstimator, TransformerMixin\n",
    "\n",
    "%matplotlib inline"
   ]
  },
  {
   "cell_type": "code",
   "execution_count": 2,
   "metadata": {
    "collapsed": true
   },
   "outputs": [],
   "source": [
    "raw_data =  pd.read_csv('train.csv', header=0,  sep=',')"
   ]
  },
  {
   "cell_type": "code",
   "execution_count": null,
   "metadata": {
    "collapsed": true
   },
   "outputs": [],
   "source": [
    "bikeDataPP = raw_data.copy()"
   ]
  },
  {
   "cell_type": "markdown",
   "metadata": {},
   "source": [
    "## Scatter Matrix of weather features:"
   ]
  },
  {
   "cell_type": "code",
   "execution_count": null,
   "metadata": {},
   "outputs": [],
   "source": [
    "scatter = scatter_matrix(bikeDataPP[['temp','atemp','humidity','windspeed']], figsize=(16, 10))"
   ]
  },
  {
   "cell_type": "markdown",
   "metadata": {},
   "source": [
    "### Removing outliers:"
   ]
  },
  {
   "cell_type": "code",
   "execution_count": null,
   "metadata": {
    "collapsed": true
   },
   "outputs": [],
   "source": [
    "bikeDataPP.loc[:,'color'] = 'lavender'\n",
    "# color lavender found here: https://matplotlib.org/examples/color/named_colors.html\n",
    "bikeDataPP.loc[bikeDataPP.humidity < 10, 'color'] = 'black'\n",
    "bikeDataPP.loc[bikeDataPP.windspeed > 45, 'color'] = 'black'\n",
    "bikeDataPP.loc[(bikeDataPP.atemp < 15) & (bikeDataPP.temp > 25), 'color'] = 'black'\n",
    "bikeDataPP.loc[(bikeDataPP.atemp > 24) & (bikeDataPP.atemp < 27) & (bikeDataPP.temp > 23),'color'] = 'black'\n",
    "bikeDataPP.loc[(bikeDataPP.atemp > 44) & (bikeDataPP.humidity < 37.5),'color'] = 'black'\n",
    "bikeDataPP.loc[(bikeDataPP.atemp > 42) & (bikeDataPP.humidity < 32),'color'] = 'black'\n",
    "bikeDataPP.loc[(bikeDataPP.atemp < 5) & (bikeDataPP.humidity > 55),'color'] = 'black'\n",
    "bikeDataPP.loc[(bikeDataPP.atemp < 2) & (bikeDataPP.humidity < 40),'color'] = 'black'\n",
    "bikeDataPP.loc[(bikeDataPP.atemp < 6) & (bikeDataPP.humidity < 30),'color'] = 'black'\n",
    "bikeDataPP.loc[(bikeDataPP.atemp > 25) & (bikeDataPP.humidity < 11) & (bikeDataPP.humidity > 9),'color'] = 'black'"
   ]
  },
  {
   "cell_type": "markdown",
   "metadata": {},
   "source": [
    "## Scatter Matrix of weather features showing outliers:"
   ]
  },
  {
   "cell_type": "code",
   "execution_count": null,
   "metadata": {},
   "outputs": [],
   "source": [
    "scatter = scatter_matrix(bikeDataPP[['temp','atemp','humidity','windspeed']], figsize=(16, 10), color = bikeDataPP['color'])"
   ]
  },
  {
   "cell_type": "code",
   "execution_count": null,
   "metadata": {
    "collapsed": true
   },
   "outputs": [],
   "source": [
    "bikeDataPP.drop(bikeDataPP[bikeDataPP.color == 'black'].index, inplace=True)"
   ]
  },
  {
   "cell_type": "code",
   "execution_count": null,
   "metadata": {
    "collapsed": true
   },
   "outputs": [],
   "source": [
    "bikeDataPP.drop('color', axis=1, inplace=True)"
   ]
  },
  {
   "cell_type": "markdown",
   "metadata": {},
   "source": [
    "## Scatter Matrix of weather features after removing outliers:"
   ]
  },
  {
   "cell_type": "code",
   "execution_count": null,
   "metadata": {},
   "outputs": [],
   "source": [
    "scatter = scatter_matrix(bikeDataPP[['temp','atemp','humidity','windspeed']], figsize=(16, 10))"
   ]
  },
  {
   "cell_type": "markdown",
   "metadata": {},
   "source": [
    "## <U>Custom transformers:</U>"
   ]
  },
  {
   "cell_type": "markdown",
   "metadata": {},
   "source": [
    "### Column Renamer Transformer"
   ]
  },
  {
   "cell_type": "code",
   "execution_count": null,
   "metadata": {
    "collapsed": true
   },
   "outputs": [],
   "source": [
    "class Column_Renamer(BaseEstimator, TransformerMixin):\n",
    "    def __init__(self, colname, new_name):\n",
    "        self.colname = colname\n",
    "        self.new_name = new_name\n",
    "    def fit(self, X, y=None):\n",
    "        return self\n",
    "    def transform(self, X, y=None):    \n",
    "        X_copy = X.copy()\n",
    "        X_copy.rename(columns={self.colname:self.new_name}, inplace=True)\n",
    "        return X_copy"
   ]
  },
  {
   "cell_type": "code",
   "execution_count": null,
   "metadata": {
    "collapsed": true
   },
   "outputs": [],
   "source": [
    "count_to_total_column_renamer = Column_Renamer('count','total')"
   ]
  },
  {
   "cell_type": "markdown",
   "metadata": {},
   "source": [
    "### Column Copier Transformer"
   ]
  },
  {
   "cell_type": "code",
   "execution_count": null,
   "metadata": {
    "collapsed": true
   },
   "outputs": [],
   "source": [
    "class Copy_Column(BaseEstimator, TransformerMixin):\n",
    "    def __init__(self, colname, new_name):\n",
    "        self.colname = colname\n",
    "        self.new_name = new_name\n",
    "    def fit(self, X, y=None):\n",
    "        return self\n",
    "    def transform(self, X, y=None):    \n",
    "        X_copy = X.copy()\n",
    "        X_copy[self.new_name] = X_copy[self.colname]\n",
    "        return X_copy"
   ]
  },
  {
   "cell_type": "code",
   "execution_count": null,
   "metadata": {
    "collapsed": true
   },
   "outputs": [],
   "source": [
    "copy_hour_to_hour_reg_transformer = Copy_Column('hour', 'hour_reg')\n",
    "copy_hour_to_hour_cas_transformer = Copy_Column('hour', 'hour_cas')"
   ]
  },
  {
   "cell_type": "markdown",
   "metadata": {},
   "source": [
    "### Drop Column Transformer"
   ]
  },
  {
   "cell_type": "code",
   "execution_count": null,
   "metadata": {
    "collapsed": true
   },
   "outputs": [],
   "source": [
    "class Drop_Column(BaseEstimator, TransformerMixin):\n",
    "    def __init__(self, colname):\n",
    "        self.colname = colname\n",
    "    def fit(self, X, y=None):\n",
    "        return self\n",
    "    def transform(self, X, y=None):    \n",
    "        X_copy = X.copy()\n",
    "        X_copy.drop(self.colname, axis=1, inplace=True)\n",
    "        return X_copy"
   ]
  },
  {
   "cell_type": "code",
   "execution_count": null,
   "metadata": {
    "collapsed": true
   },
   "outputs": [],
   "source": [
    "drop_temp_column_transformer = Drop_Column('temp')\n",
    "drop_hour_column_transformer = Drop_Column('hour')\n",
    "drop_weekday_column_transformer = Drop_Column('weekday')"
   ]
  },
  {
   "cell_type": "markdown",
   "metadata": {},
   "source": [
    "### Binned Data Digitizer Transformer"
   ]
  },
  {
   "cell_type": "code",
   "execution_count": null,
   "metadata": {
    "collapsed": true
   },
   "outputs": [],
   "source": [
    "class Digitizer(BaseEstimator, TransformerMixin):\n",
    "    def __init__(self, colname, bins):\n",
    "        self.colname = colname\n",
    "        self.bins = bins\n",
    "    def fit(self, X, y=None):\n",
    "        self.labels = ['{}_{}'.format(low, high) for low, high in\n",
    "                       zip([x+1 if x!=self.bins[0] else x for x in self.bins[:-1]], self.bins[1:])]\n",
    "        return self\n",
    "    def transform(self, X, y=None):    \n",
    "        X_copy = X.copy()\n",
    "        binned = pd.cut(X_copy[self.colname], \n",
    "                        bins=self.bins, \n",
    "                        labels=self.labels, \n",
    "                        include_lowest=True)\n",
    "        X_copy[self.colname] = binned.astype(str)\n",
    "        return X_copy"
   ]
  },
  {
   "cell_type": "code",
   "execution_count": null,
   "metadata": {
    "collapsed": true
   },
   "outputs": [],
   "source": [
    "windspeed_digitizer_transformer = Digitizer('windspeed', [0, 10, 20, 30, 45])\n",
    "hour_reg_digitizer_transformer = Digitizer('hour_reg', [0, 6, 9, 15, 20, 23])\n",
    "hour_cas_digitizer_transformer = Digitizer('hour_cas', [0, 8, 20, 23])"
   ]
  },
  {
   "cell_type": "markdown",
   "metadata": {},
   "source": [
    "### Add custom detail date related columns transformer"
   ]
  },
  {
   "cell_type": "code",
   "execution_count": null,
   "metadata": {
    "collapsed": true
   },
   "outputs": [],
   "source": [
    "def add_detail_date_columns(df):\n",
    "    df.datetime = pd.DatetimeIndex(df.datetime)\n",
    "    df['month'] = df.datetime.apply(lambda x:x.month)\n",
    "    df['hour'] = df.datetime.apply(lambda x:x.hour)\n",
    "    df['weekday'] = df.datetime.apply(lambda x:x.dayofweek)  # 0 is Mon,1 is Tue etc...\n",
    "    df['isweekend'] = df.weekday.apply(lambda x:int(x in [5,6]))\n",
    "    return df\n",
    "    \n",
    "add_detail_date_columns_transformer = FunctionTransformer(func=add_detail_date_columns, validate=False)"
   ]
  },
  {
   "cell_type": "markdown",
   "metadata": {},
   "source": [
    "### Categorical data binarizer transformers"
   ]
  },
  {
   "cell_type": "code",
   "execution_count": null,
   "metadata": {
    "collapsed": true
   },
   "outputs": [],
   "source": [
    "class Binarizer(BaseEstimator, TransformerMixin):\n",
    "    def __init__(self, colname, drop_first):\n",
    "        self.colname = colname\n",
    "        self.drop_first = drop_first\n",
    "    def fit(self, X, y=None):\n",
    "        return self\n",
    "    def transform(self, X, y=None):\n",
    "        dummies = pd.get_dummies(X[self.colname], \n",
    "                                 prefix=self.colname, \n",
    "                                 columns=[self.colname], \n",
    "                                 drop_first=self.drop_first)\n",
    "        X_no_col = X.drop(self.colname, axis=1, inplace=False)\n",
    "        X_with_dummies = X_no_col.join(dummies)\n",
    "        return X_with_dummies"
   ]
  },
  {
   "cell_type": "code",
   "execution_count": null,
   "metadata": {
    "collapsed": true
   },
   "outputs": [],
   "source": [
    "windspeed_binarizer_transformer = Binarizer(colname='windspeed', drop_first=False)\n",
    "season_binarizer_transformer = Binarizer(colname='season', drop_first=False)\n",
    "weather_binarizer_transformer = Binarizer(colname='weather', drop_first=False)\n",
    "month_binarizer_transformer = Binarizer(colname='month', drop_first=False)\n",
    "hour_reg_binarizer_transformer = Binarizer(colname='hour_reg', drop_first=False)\n",
    "hour_cas_binarizer_transformer = Binarizer(colname='hour_cas', drop_first=False)"
   ]
  },
  {
   "cell_type": "markdown",
   "metadata": {},
   "source": [
    "### Standard Scaler Transformer"
   ]
  },
  {
   "cell_type": "code",
   "execution_count": null,
   "metadata": {
    "collapsed": true
   },
   "outputs": [],
   "source": [
    "class Standard_Scaler(BaseEstimator, TransformerMixin):\n",
    "    def __init__(self, colnames):\n",
    "        self.colnames = colnames\n",
    "    def fit(self, X, y=None):\n",
    "        self.scaler = StandardScaler().fit(X.loc[:,self.colnames])\n",
    "        return self\n",
    "    def transform(self, X, y=None):    \n",
    "        X_copy = X.copy()\n",
    "        X_copy.loc[:,self.colnames] = self.scaler.transform(X_copy.loc[:,self.colnames])\n",
    "        return X_copy"
   ]
  },
  {
   "cell_type": "code",
   "execution_count": null,
   "metadata": {
    "collapsed": true
   },
   "outputs": [],
   "source": [
    "standard_scaler_transformer = Standard_Scaler(['atemp','humidity'])"
   ]
  },
  {
   "cell_type": "markdown",
   "metadata": {},
   "source": [
    "# Pipeline:"
   ]
  },
  {
   "cell_type": "code",
   "execution_count": null,
   "metadata": {
    "collapsed": true
   },
   "outputs": [],
   "source": [
    "steps = [('count_to_total_column_renamer', count_to_total_column_renamer),         \n",
    "         ('add_detail_date_columns_transformer', add_detail_date_columns_transformer),\n",
    "         ('drop_weekday_column_transformer', drop_weekday_column_transformer),\n",
    "         ('drop_temp_column_transformer', drop_temp_column_transformer),\n",
    "         ('copy_hour_to_hour_reg_transformer', copy_hour_to_hour_reg_transformer),\n",
    "         ('copy_hour_to_hour_cas_transformer', copy_hour_to_hour_cas_transformer),\n",
    "         ('drop_hour_column_transformer', drop_hour_column_transformer),\n",
    "         ('windspeed_digitizer_transformer', windspeed_digitizer_transformer),\n",
    "         ('windspeed_binarizer_transformer', windspeed_binarizer_transformer),\n",
    "         ('season_binarizer_transformer', season_binarizer_transformer),\n",
    "         ('weather_binarizer_transformer', weather_binarizer_transformer),\n",
    "         ('month_binarizer_transformer', month_binarizer_transformer),\n",
    "         ('hour_reg_digitizer_transformer', hour_reg_digitizer_transformer),\n",
    "         ('hour_reg_binarizer_transformer', hour_reg_binarizer_transformer),\n",
    "         ('hour_cas_digitizer_transformer', hour_cas_digitizer_transformer),\n",
    "         ('hour_cas_binarizer_transformer', hour_cas_binarizer_transformer),\n",
    "         ('standard_scaler_transformer', standard_scaler_transformer)]\n",
    "\n",
    "transformers_pipeline = Pipeline(steps)"
   ]
  },
  {
   "cell_type": "code",
   "execution_count": null,
   "metadata": {
    "collapsed": true
   },
   "outputs": [],
   "source": [
    "bikeDataPP = transformers_pipeline.fit_transform(bikeDataPP)"
   ]
  },
  {
   "cell_type": "code",
   "execution_count": null,
   "metadata": {},
   "outputs": [],
   "source": [
    "bikeDataPP.head()"
   ]
  },
  {
   "cell_type": "code",
   "execution_count": null,
   "metadata": {},
   "outputs": [],
   "source": [
    "bikeDataPP.info()"
   ]
  },
  {
   "cell_type": "markdown",
   "metadata": {},
   "source": [
    "## Saving the prepared data"
   ]
  },
  {
   "cell_type": "code",
   "execution_count": null,
   "metadata": {
    "collapsed": true
   },
   "outputs": [],
   "source": [
    "bikeDataPP.to_csv('bikeDataPP.csv',index= True, index_label='Index')"
   ]
  }
 ],
 "metadata": {
  "kernelspec": {
   "display_name": "Python 2",
   "language": "python",
   "name": "python2"
  },
  "language_info": {
   "codemirror_mode": {
    "name": "ipython",
    "version": 2
   },
   "file_extension": ".py",
   "mimetype": "text/x-python",
   "name": "python",
   "nbconvert_exporter": "python",
   "pygments_lexer": "ipython2",
   "version": "2.7.13"
  }
 },
 "nbformat": 4,
 "nbformat_minor": 2
}
